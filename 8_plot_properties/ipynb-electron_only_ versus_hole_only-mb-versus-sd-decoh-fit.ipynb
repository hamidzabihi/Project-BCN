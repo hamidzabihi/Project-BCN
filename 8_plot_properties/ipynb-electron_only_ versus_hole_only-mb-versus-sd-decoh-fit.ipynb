{
 "cells": [
  {
   "cell_type": "code",
   "execution_count": 1,
   "id": "a9ba96e5",
   "metadata": {
    "extensions": {
     "jupyter_dashboards": {
      "version": 1,
      "views": {
       "grid_default": {},
       "report_default": {}
      }
     }
    }
   },
   "outputs": [
    {
     "name": "stderr",
     "output_type": "stream",
     "text": [
      "/home/98722002/miniconda3/envs/libra/lib/python3.6/importlib/_bootstrap.py:219: RuntimeWarning: to-Python converter for std::vector<std::vector<int, std::allocator<int> >, std::allocator<std::vector<int, std::allocator<int> > > > already registered; second conversion method ignored.\n",
      "  return f(*args, **kwds)\n",
      "/home/98722002/miniconda3/envs/libra/lib/python3.6/importlib/_bootstrap.py:219: RuntimeWarning: to-Python converter for boost::python::detail::container_element<std::vector<std::vector<int, std::allocator<int> >, std::allocator<std::vector<int, std::allocator<int> > > >, unsigned long, boost::python::detail::final_vector_derived_policies<std::vector<std::vector<int, std::allocator<int> >, std::allocator<std::vector<int, std::allocator<int> > > >, false> > already registered; second conversion method ignored.\n",
      "  return f(*args, **kwds)\n",
      "/home/98722002/miniconda3/envs/libra/lib/python3.6/importlib/_bootstrap.py:219: RuntimeWarning: to-Python converter for std::vector<std::vector<float, std::allocator<float> >, std::allocator<std::vector<float, std::allocator<float> > > > already registered; second conversion method ignored.\n",
      "  return f(*args, **kwds)\n",
      "/home/98722002/miniconda3/envs/libra/lib/python3.6/importlib/_bootstrap.py:219: RuntimeWarning: to-Python converter for boost::python::detail::container_element<std::vector<std::vector<float, std::allocator<float> >, std::allocator<std::vector<float, std::allocator<float> > > >, unsigned long, boost::python::detail::final_vector_derived_policies<std::vector<std::vector<float, std::allocator<float> >, std::allocator<std::vector<float, std::allocator<float> > > >, false> > already registered; second conversion method ignored.\n",
      "  return f(*args, **kwds)\n",
      "/home/98722002/miniconda3/envs/libra/lib/python3.6/importlib/_bootstrap.py:219: RuntimeWarning: to-Python converter for std::vector<std::vector<double, std::allocator<double> >, std::allocator<std::vector<double, std::allocator<double> > > > already registered; second conversion method ignored.\n",
      "  return f(*args, **kwds)\n",
      "/home/98722002/miniconda3/envs/libra/lib/python3.6/importlib/_bootstrap.py:219: RuntimeWarning: to-Python converter for boost::python::detail::container_element<std::vector<std::vector<double, std::allocator<double> >, std::allocator<std::vector<double, std::allocator<double> > > >, unsigned long, boost::python::detail::final_vector_derived_policies<std::vector<std::vector<double, std::allocator<double> >, std::allocator<std::vector<double, std::allocator<double> > > >, false> > already registered; second conversion method ignored.\n",
      "  return f(*args, **kwds)\n",
      "/home/98722002/miniconda3/envs/libra/lib/python3.6/importlib/_bootstrap.py:219: RuntimeWarning: to-Python converter for std::vector<std::vector<std::complex<double>, std::allocator<std::complex<double> > >, std::allocator<std::vector<std::complex<double>, std::allocator<std::complex<double> > > > > already registered; second conversion method ignored.\n",
      "  return f(*args, **kwds)\n",
      "/home/98722002/miniconda3/envs/libra/lib/python3.6/importlib/_bootstrap.py:219: RuntimeWarning: to-Python converter for boost::python::detail::container_element<std::vector<std::vector<std::complex<double>, std::allocator<std::complex<double> > >, std::allocator<std::vector<std::complex<double>, std::allocator<std::complex<double> > > > >, unsigned long, boost::python::detail::final_vector_derived_policies<std::vector<std::vector<std::complex<double>, std::allocator<std::complex<double> > >, std::allocator<std::vector<std::complex<double>, std::allocator<std::complex<double> > > > >, false> > already registered; second conversion method ignored.\n",
      "  return f(*args, **kwds)\n"
     ]
    }
   ],
   "source": [
    "import os\n",
    "import sys\n",
    "import math\n",
    "import time\n",
    "import glob \n",
    "\n",
    "import multiprocessing as mp\n",
    "import numpy as np\n",
    "import scipy.sparse as sp\n",
    "from scipy.optimize import curve_fit\n",
    "import matplotlib.pyplot as plt\n",
    "%matplotlib inline\n",
    "\n",
    "from liblibra_core import *\n",
    "import util.libutil as comn\n",
    "from libra_py import units as units\n",
    "from libra_py import data_conv, data_stat, data_outs, data_read\n",
    "import libra_py.workflows.nbra.decoherence_times as decoherence_times\n",
    "import libra_py.workflows.nbra.step4 as step4\n",
    "import libra_py.workflows.nbra.ann as ann"
   ]
  },
  {
   "cell_type": "code",
   "execution_count": 2,
   "id": "669dda40",
   "metadata": {
    "extensions": {
     "jupyter_dashboards": {
      "version": 1,
      "views": {
       "grid_default": {},
       "report_default": {}
      }
     }
    }
   },
   "outputs": [
    {
     "name": "stdout",
     "output_type": "stream",
     "text": [
      "------------FSSH----------\n",
      "The timescales: nan+-nan average over 0 samples\n"
     ]
    },
    {
     "name": "stderr",
     "output_type": "stream",
     "text": [
      "/home/98722002/miniconda3/envs/libra/lib/python3.6/site-packages/numpy/lib/function_base.py:380: RuntimeWarning: Mean of empty slice.\n",
      "  avg = a.mean(axis)\n",
      "/home/98722002/miniconda3/envs/libra/lib/python3.6/site-packages/numpy/core/_methods.py:170: RuntimeWarning: invalid value encountered in double_scalars\n",
      "  ret = ret.dtype.type(ret / rcount)\n",
      "/home/98722002/miniconda3/envs/libra/lib/python3.6/site-packages/numpy/core/_methods.py:234: RuntimeWarning: Degrees of freedom <= 0 for slice\n",
      "  keepdims=keepdims)\n",
      "/home/98722002/miniconda3/envs/libra/lib/python3.6/site-packages/numpy/core/_methods.py:195: RuntimeWarning: invalid value encountered in true_divide\n",
      "  arrmean, rcount, out=arrmean, casting='unsafe', subok=False)\n",
      "/home/98722002/miniconda3/envs/libra/lib/python3.6/site-packages/numpy/core/_methods.py:226: RuntimeWarning: invalid value encountered in double_scalars\n",
      "  ret = ret.dtype.type(ret / rcount)\n"
     ]
    },
    {
     "ename": "NameError",
     "evalue": "name 'md_time' is not defined",
     "output_type": "error",
     "traceback": [
      "\u001b[0;31m---------------------------------------------------------------------------\u001b[0m",
      "\u001b[0;31mNameError\u001b[0m                                 Traceback (most recent call last)",
      "\u001b[0;32m<ipython-input-2-ca03ad1485bf>\u001b[0m in \u001b[0;36m<module>\u001b[0;34m()\u001b[0m\n\u001b[1;32m    160\u001b[0m     \u001b[0;31m# Plot average fit\u001b[0m\u001b[0;34m\u001b[0m\u001b[0;34m\u001b[0m\u001b[0;34m\u001b[0m\u001b[0m\n\u001b[1;32m    161\u001b[0m     \u001b[0;31m#plt.plot(md_time, stretched_compressed(md_time, ave_tau-error_bar, ave_beta), ls='--',linewidth=3, color='red')\u001b[0m\u001b[0;34m\u001b[0m\u001b[0;34m\u001b[0m\u001b[0;34m\u001b[0m\u001b[0m\n\u001b[0;32m--> 162\u001b[0;31m     \u001b[0mplt\u001b[0m\u001b[0;34m.\u001b[0m\u001b[0mplot\u001b[0m\u001b[0;34m(\u001b[0m\u001b[0mmd_time\u001b[0m\u001b[0;34m,\u001b[0m \u001b[0mstretched_compressed\u001b[0m\u001b[0;34m(\u001b[0m\u001b[0mmd_time\u001b[0m\u001b[0;34m,\u001b[0m \u001b[0mave_tau\u001b[0m\u001b[0;34m,\u001b[0m           \u001b[0mave_beta\u001b[0m\u001b[0;34m)\u001b[0m\u001b[0;34m,\u001b[0m \u001b[0mls\u001b[0m\u001b[0;34m=\u001b[0m\u001b[0;34m'-'\u001b[0m\u001b[0;34m,\u001b[0m  \u001b[0mlinewidth\u001b[0m\u001b[0;34m=\u001b[0m\u001b[0;36m3\u001b[0m\u001b[0;34m,\u001b[0m\u001b[0mlabel\u001b[0m\u001b[0;34m=\u001b[0m\u001b[0;34m'5'\u001b[0m\u001b[0;34m,\u001b[0m \u001b[0mcolor\u001b[0m\u001b[0;34m=\u001b[0m\u001b[0;34m'darkcyan'\u001b[0m\u001b[0;34m)\u001b[0m\u001b[0;34m\u001b[0m\u001b[0;34m\u001b[0m\u001b[0m\n\u001b[0m\u001b[1;32m    163\u001b[0m     \u001b[0mplt\u001b[0m\u001b[0;34m.\u001b[0m\u001b[0mplot\u001b[0m\u001b[0;34m(\u001b[0m\u001b[0mmd_time2\u001b[0m\u001b[0;34m,\u001b[0m \u001b[0mstretched_compressed\u001b[0m\u001b[0;34m(\u001b[0m\u001b[0mmd_time2\u001b[0m\u001b[0;34m,\u001b[0m \u001b[0mave_tau2\u001b[0m\u001b[0;34m,\u001b[0m           \u001b[0mave_beta2\u001b[0m\u001b[0;34m)\u001b[0m\u001b[0;34m,\u001b[0m \u001b[0mls\u001b[0m\u001b[0;34m=\u001b[0m\u001b[0;34m'-'\u001b[0m\u001b[0;34m,\u001b[0m  \u001b[0mlinewidth\u001b[0m\u001b[0;34m=\u001b[0m\u001b[0;36m3\u001b[0m\u001b[0;34m,\u001b[0m\u001b[0mlabel\u001b[0m\u001b[0;34m=\u001b[0m\u001b[0;34m'10'\u001b[0m\u001b[0;34m,\u001b[0m \u001b[0mcolor\u001b[0m\u001b[0;34m=\u001b[0m\u001b[0;34m'rebeccapurple'\u001b[0m\u001b[0;34m)\u001b[0m\u001b[0;34m\u001b[0m\u001b[0;34m\u001b[0m\u001b[0m\n\u001b[1;32m    164\u001b[0m     \u001b[0;31m#plt.plot(md_time3, stretched_compressed(md_time3, ave_tau3,           ave_beta3), ls='-',  linewidth=3,label='c$_i$ $h^+$', color='blue')\u001b[0m\u001b[0;34m\u001b[0m\u001b[0;34m\u001b[0m\u001b[0;34m\u001b[0m\u001b[0m\n",
      "\u001b[0;31mNameError\u001b[0m: name 'md_time' is not defined"
     ]
    },
    {
     "data": {
      "text/plain": [
       "<Figure size 1926x1446 with 0 Axes>"
      ]
     },
     "metadata": {},
     "output_type": "display_data"
    }
   ],
   "source": [
    "%matplotlib inline\n",
    "#notebook\n",
    "#figure = plt.figure(num=None, figsize=(3.21, 2.41), dpi=300, edgecolor='black', frameon=True)        \n",
    "\n",
    "def stretched_compressed(t, tau, beta):\n",
    "    return np.exp( -np.power(( t/tau ),beta) )\n",
    "\n",
    "for c, scheme in enumerate(['FSSH', 'IDA','mSDM']):\n",
    "    figure = plt.figure(num=None, figsize=(3.21, 2.41), dpi=600, edgecolor='black', frameon=True)\n",
    "    print(F'------------{scheme}----------')\n",
    "    #plt.subplot(1,2,c+1)\n",
    "    folders = glob.glob(F'./results/namd_regular_electron_only_sp-5/_start_s10_{scheme}_batch*', recursive = True)\n",
    "    #print(folders)\n",
    "    taus = []\n",
    "    betas = []\n",
    "    \n",
    "    for folder in folders:\n",
    "        \n",
    "        print(\"Folder =\", folder)\n",
    "        sh_pop = np.loadtxt(folder+'/SH_pop.txt')\n",
    "        sh_pop_hot_state = sh_pop[:,10]\n",
    "        md_time = np.arange(0, sh_pop_hot_state.shape[0], 1.0)\n",
    "        popt, pcov = curve_fit( stretched_compressed, md_time, sh_pop_hot_state, \n",
    "                                   bounds=([0.0, 0.0],[np.inf, np.inf]))\n",
    "        tau, beta = popt\n",
    "        # Computing the R-squared\n",
    "        residuals  = sh_pop_hot_state - stretched_compressed(md_time, *popt)\n",
    "        ss_res     = np.sum(residuals**2)\n",
    "        ss_tot     = np.sum((sh_pop_hot_state - np.mean(sh_pop_hot_state))**2)\n",
    "        r_squared  = 1.0 - (ss_res / ss_tot)\n",
    "        print('tau:', tau, ' beta:', beta,' R2:', r_squared)\n",
    "        \n",
    "        if r_squared>0.01:\n",
    "            taus.append(tau)\n",
    "            betas.append(beta)\n",
    "            plt.plot(md_time, sh_pop_hot_state,  linewidth=1, color = 'green')\n",
    "            \n",
    "    ave_tau = np.average(np.array(taus))\n",
    "    ave_beta = np.average(np.array(betas))\n",
    "    # Compute the erro bars\n",
    "    # The confidence interval\n",
    "    Z = 1.96\n",
    "    N = len(taus)\n",
    "    s = np.std(np.array(taus))\n",
    "    error_bar = Z*s/np.sqrt(N)\n",
    "    \n",
    "######################################################################################################################        \n",
    "    \n",
    "    \n",
    "    folders2 = glob.glob(F'./results/namd_regular_electron_only_sp-10/_start_s10_{scheme}_batch*', recursive = True)\n",
    "    #print(folders2)\n",
    "    taus2 = []\n",
    "    betas2 = []    \n",
    "    for folder in folders2:\n",
    "        \n",
    "        #print(\"Folder =\", folder)\n",
    "        sh_pop = np.loadtxt(folder+'/SH_pop.txt')\n",
    "        sh_pop_hot_state = sh_pop[:,10]\n",
    "        md_time2 = np.arange(0, sh_pop_hot_state.shape[0], 1.0)\n",
    "        popt, pcov = curve_fit( stretched_compressed, md_time2, sh_pop_hot_state, \n",
    "                                   bounds=([0.0, 0.0],[np.inf, np.inf]))\n",
    "        tau, beta = popt\n",
    "        # Computing the R-squared\n",
    "        residuals  = sh_pop_hot_state - stretched_compressed(md_time2, *popt)\n",
    "        ss_res     = np.sum(residuals**2)\n",
    "        ss_tot     = np.sum((sh_pop_hot_state - np.mean(sh_pop_hot_state))**2)\n",
    "        r_squared  = 1.0 - (ss_res / ss_tot)\n",
    "        print('tau:', tau, ' beta:', beta,' R2:', r_squared)\n",
    "        \n",
    "        if r_squared>0.01:\n",
    "            taus2.append(tau)\n",
    "            betas2.append(beta)\n",
    "            plt.plot(md_time2, sh_pop_hot_state,  linewidth=1, color = \"mediumorchid\")\n",
    "            \n",
    "    ave_tau2 = np.average(np.array(taus2))\n",
    "    ave_beta2 = np.average(np.array(betas2))\n",
    "    # Compute the erro bars\n",
    "    # The confidence interval\n",
    "    Z = 1.96\n",
    "    N = len(taus2)\n",
    "    s = np.std(np.array(taus2))\n",
    "    error_bar = Z*s/np.sqrt(N)\n",
    "    \n",
    "#@@@@@@@@@@@@@@@@@@@@@@@@@@@@@@@@@@@@@@@@@@@@@@@@@@@@@@@@@@@@@@@@@@@@@@@@@@@@@@@@@@@@@@@@@@@@@@@@@@@@@@@@@@@@@@2    \n",
    "    \n",
    "  #  folders3 = glob.glob(F'./results/namd_regular_hole_only_mb-Hvib_ci/_start_s10_{scheme}_batch*', recursive = True)\n",
    "  #  taus3 = []\n",
    "  #  betas3 = []    \n",
    "  #  for folder in folders3:\n",
    "  #      \n",
    "  #      print(\"Folder =\", folder)\n",
    "  #      sh_pop = np.loadtxt(folder+'/SH_pop.txt')\n",
    "  #      sh_pop_hot_state = sh_pop[:,10]\n",
    "  #      md_time3 = np.arange(0, sh_pop_hot_state.shape[0], 1.0)\n",
    "  #      popt, pcov = curve_fit( stretched_compressed, md_time3, sh_pop_hot_state, \n",
    "  #                                 bounds=([0.0, 0.0],[np.inf, np.inf]))\n",
    "  #      tau, beta = popt\n",
    "  #      # Computing the R-squared\n",
    "  #      residuals  = sh_pop_hot_state - stretched_compressed(md_time3, *popt)\n",
    "  #      ss_res     = np.sum(residuals**2)\n",
    "  #      ss_tot     = np.sum((sh_pop_hot_state - np.mean(sh_pop_hot_state))**2)\n",
    "  #      r_squared  = 1.0 - (ss_res / ss_tot)\n",
    "  #      print('tau:', tau, ' beta:', beta,' R2:', r_squared)\n",
    "  #      \n",
    "  #      if r_squared>0.01:\n",
    "  #          taus3.append(tau)\n",
    "  #          betas3.append(beta)\n",
    "  #          plt.plot(md_time3, sh_pop_hot_state,  linewidth=1, color = \"skyblue\")\n",
    "  #          \n",
    "  #  ave_tau3 = np.average(np.array(taus3))\n",
    "  #  ave_beta3 = np.average(np.array(betas3))\n",
    "  #  # Compute the erro bars\n",
    "  #  # The confidence interval\n",
    "  #  Z = 1.96\n",
    "  #  N = len(taus3)\n",
    "  #  s = np.std(np.array(taus3))\n",
    "  #  error_bar = Z*s/np.sqrt(N)\n",
    "  #  \n",
    "#@#@@@@@@@@@@@@@@@@@@@@@@@@@@@@@@@@@@@@@@@@@@@@@@@@@@@@@@@@@@@@@@@@@@@@@@@@@@@@@@@@@@@@@@@@@@@@@@@@@@@@@@@@@@@@@2    \n",
    "  # \n",
    "  #  folders4 = glob.glob(F'./results/namd_regular_electron_only_mb-Hvib_ci/_start_s10_{scheme}_batch*', recursive = True)\n",
    "  #  taus4 = []\n",
    "  #  betas4 = []    \n",
    "  #  for folder in folders4:\n",
    "  #      \n",
    "  #      print(\"Folder =\", folder)\n",
    "  #      sh_pop = np.loadtxt(folder+'/SH_pop.txt')\n",
    "  #      sh_pop_hot_state = sh_pop[:,10]\n",
    "  #      md_time4 = np.arange(0, sh_pop_hot_state.shape[0], 1.0)\n",
    "  #      popt, pcov = curve_fit( stretched_compressed, md_time4, sh_pop_hot_state, \n",
    "  #                                 bounds=([0.0, 0.0],[np.inf, np.inf]))\n",
    "  #      tau, beta = popt\n",
    "  #      # Computing the R-squared\n",
    "  #      residuals  = sh_pop_hot_state - stretched_compressed(md_time4, *popt)\n",
    "  #      ss_res     = np.sum(residuals**2)\n",
    "  #      ss_tot     = np.sum((sh_pop_hot_state - np.mean(sh_pop_hot_state))**2)\n",
    "  #      r_squared  = 1.0 - (ss_res / ss_tot)\n",
    "  #      print('tau:', tau, ' beta:', beta,' R2:', r_squared)\n",
    "  #      \n",
    "  #      if r_squared>0.01:\n",
    "  #          taus4.append(tau)\n",
    "  #          betas4.append(beta)\n",
    "  #          plt.plot(md_time4, sh_pop_hot_state,  linewidth=1, color = \"skyblue\")\n",
    "  #          \n",
    "  #  ave_tau4 = np.average(np.array(taus4))\n",
    "  #  ave_beta4 = np.average(np.array(betas4))\n",
    "  #  # Compute the erro bars\n",
    "  #  # The confidence interval\n",
    "  #  Z = 1.96\n",
    "  #  N = len(taus4)\n",
    "  #  s = np.std(np.array(taus4))\n",
    "  #  error_bar = Z*s/np.sqrt(N)\n",
    "    \n",
    "#@@@@@@@@@@@@@@@@@@@@@@@@@@@@@@@@@@@@@@@@@@@@@@@@@@@@@@@@@@@@@@@@@@@@@@@@@@@@@@@@@@@@@@@@@@@@@@@@@@@@@@@@@@@@@@    \n",
    "  \n",
    "#@@@@@@@@@@@@@@@@@@@@@@@@@@@@@@@@@@@@@@@@@@@@@@@@@@@@@@@@@@@@@@@@@@@@@@@@@@@@@@@@@@@@@@@@@@@@@@@@@@@@@@@@@@@@@@    \n",
    "  \n",
    "    \n",
    "    print(F'The timescales: {ave_tau}+-{error_bar} average over {len(taus)} samples')\n",
    "    # Plot average fit\n",
    "    #plt.plot(md_time, stretched_compressed(md_time, ave_tau-error_bar, ave_beta), ls='--',linewidth=3, color='red')\n",
    "    plt.plot(md_time, stretched_compressed(md_time, ave_tau,           ave_beta), ls='-',  linewidth=3,label='5', color='darkcyan')\n",
    "    plt.plot(md_time2, stretched_compressed(md_time2, ave_tau2,           ave_beta2), ls='-',  linewidth=3,label='10', color='rebeccapurple')\n",
    "    #plt.plot(md_time3, stretched_compressed(md_time3, ave_tau3,           ave_beta3), ls='-',  linewidth=3,label='c$_i$ $h^+$', color='blue')\n",
    "    #plt.plot(md_time4, stretched_compressed(md_time4, ave_tau4,           ave_beta4), ls='-',  linewidth=3,label='c$_i$ $e^-$', color='red')\n",
    "\n",
    "    #plt.plot(md_time, stretched_compressed(md_time, ave_tau+error_bar, ave_beta), ls='--', linewidth=3, color='red')\n",
    "        \n",
    "    plt.legend(fontsize=6, ncol=1, loc='upper right')\n",
    "    plt.title(scheme)\n",
    "    plt.xlabel('Time, fs')\n",
    "    plt.ylabel('Population')\n",
    "    plt.tight_layout()\n",
    "    plt.savefig(F'./results/{scheme}electron_hole_only-mb-sd.png', dpi=600)\n",
    "    plt.show() "
   ]
  },
  {
   "cell_type": "code",
   "execution_count": null,
   "id": "f807e344",
   "metadata": {
    "extensions": {
     "jupyter_dashboards": {
      "version": 1,
      "views": {
       "grid_default": {},
       "report_default": {}
      }
     }
    }
   },
   "outputs": [],
   "source": []
  }
 ],
 "metadata": {
  "extensions": {
   "jupyter_dashboards": {
    "activeView": "grid_default",
    "version": 1,
    "views": {
     "grid_default": {
      "cellMargin": 10,
      "defaultCellHeight": 20,
      "maxColumns": 12,
      "name": "grid",
      "type": "grid"
     },
     "report_default": {
      "name": "report",
      "type": "report"
     }
    }
   }
  },
  "kernelspec": {
   "display_name": "Python 3",
   "language": "python",
   "name": "python3"
  },
  "language_info": {
   "codemirror_mode": {
    "name": "ipython",
    "version": 3
   },
   "file_extension": ".py",
   "mimetype": "text/x-python",
   "name": "python",
   "nbconvert_exporter": "python",
   "pygments_lexer": "ipython3",
   "version": "3.6.15"
  },
  "varInspector": {
   "cols": {
    "lenName": 16,
    "lenType": 16,
    "lenVar": 40
   },
   "kernels_config": {
    "python": {
     "delete_cmd_postfix": "",
     "delete_cmd_prefix": "del ",
     "library": "var_list.py",
     "varRefreshCmd": "print(var_dic_list())"
    },
    "r": {
     "delete_cmd_postfix": ") ",
     "delete_cmd_prefix": "rm(",
     "library": "var_list.r",
     "varRefreshCmd": "cat(var_dic_list()) "
    }
   },
   "types_to_exclude": [
    "module",
    "function",
    "builtin_function_or_method",
    "instance",
    "_Feature"
   ],
   "window_display": false
  }
 },
 "nbformat": 4,
 "nbformat_minor": 5
}
